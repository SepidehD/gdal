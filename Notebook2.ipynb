{
 "cells": [
  {
   "cell_type": "code",
   "execution_count": 1,
   "metadata": {},
   "outputs": [],
   "source": [
    "#import libraries\n",
    "from time import clock\n",
    "from osgeo import gdal\n",
    "import os , sys\n"
   ]
  },
  {
   "cell_type": "code",
   "execution_count": 2,
   "metadata": {},
   "outputs": [
    {
     "data": {
      "text/plain": [
       "['MCD64A1.A2009032.h10v05.006.2017015033638.hdf',\n",
       " 'MCD64A1.A2009001.h10v05.006.2017015111541.hdf',\n",
       " 'MCD64A1.A2009060.h10v05.006.2017015044612.hdf']"
      ]
     },
     "execution_count": 2,
     "metadata": {},
     "output_type": "execute_result"
    }
   ],
   "source": [
    "r_data_dir = \"SampleHDFData\"\n",
    "data_dir = \"SampleHDFData\"\n",
    "files_names = [f for f in os.listdir(r_data_dir) if f.endswith('.hdf')]\n",
    "files_names"
   ]
  },
  {
   "cell_type": "code",
   "execution_count": 18,
   "metadata": {},
   "outputs": [
    {
     "name": "stdout",
     "output_type": "stream",
     "text": [
      "Processing file: MCD64A1.A2009032.h10v05.006.2017015033638.hdf\n",
      " \n",
      "HDF to GeoTIFF command: gdal_translate -of GTiff \"HDF4_EOS:EOS_GRID:SampleHDFData/MCD64A1.A2009032.h10v05.006.2017015033638.hdf:MOD_Grid_Monthly_500m_DB_BA:Burn Date\" SampleHDFData/032.h/9032.h10_05.00.tif\n",
      "Old projection: PROJCS[\"unnamed\",GEOGCS[\"Unknown datum based upon the custom spheroid\",DATUM[\"Not_specified_based_on_custom_spheroid\",SPHEROID[\"Custom spheroid\",6371007.181,0]],PRIMEM[\"Greenwich\",0],UNIT[\"degree\",0.0174532925199433]],PROJECTION[\"Sinusoidal\"],PARAMETER[\"longitude_of_center\",0],PARAMETER[\"false_easting\",0],PARAMETER[\"false_northing\",0],UNIT[\"metre\",1,AUTHORITY[\"EPSG\",\"9001\"]]]\n",
      " \n",
      "Reprojection command: gdalwarp -t_srs '+proj=aea +lat_1=29.5 +lat_2=45.5 +lat_0=37.5 +lon_0=-96 +x_0=0 +y_0=0 +ellps=GRS80 +datum=NAD83 +units=m +no_defs ' SampleHDFData/032.h/9032.h10_05.00.tif SampleHDFData/032.h/9032.h10_05.00_projected.tif\n",
      " \n",
      "New projection: PROJCS[\"unnamed\",GEOGCS[\"NAD83\",DATUM[\"North_American_Datum_1983\",SPHEROID[\"GRS 1980\",6378137,298.2572221010042,AUTHORITY[\"EPSG\",\"7019\"]],TOWGS84[0,0,0,0,0,0,0],AUTHORITY[\"EPSG\",\"6269\"]],PRIMEM[\"Greenwich\",0],UNIT[\"degree\",0.0174532925199433],AUTHORITY[\"EPSG\",\"4269\"]],PROJECTION[\"Albers_Conic_Equal_Area\"],PARAMETER[\"standard_parallel_1\",29.5],PARAMETER[\"standard_parallel_2\",45.5],PARAMETER[\"latitude_of_center\",37.5],PARAMETER[\"longitude_of_center\",-96],PARAMETER[\"false_easting\",0],PARAMETER[\"false_northing\",0],UNIT[\"metre\",1,AUTHORITY[\"EPSG\",\"9001\"]]]\n",
      " \n",
      "---------\n",
      "Processing file: MCD64A1.A2009001.h10v05.006.2017015111541.hdf\n",
      " \n",
      "HDF to GeoTIFF command: gdal_translate -of GTiff \"HDF4_EOS:EOS_GRID:SampleHDFData/MCD64A1.A2009001.h10v05.006.2017015111541.hdf:MOD_Grid_Monthly_500m_DB_BA:Burn Date\" SampleHDFData/001.h/9001.h10_05.00.tif\n",
      "Old projection: PROJCS[\"unnamed\",GEOGCS[\"Unknown datum based upon the custom spheroid\",DATUM[\"Not_specified_based_on_custom_spheroid\",SPHEROID[\"Custom spheroid\",6371007.181,0]],PRIMEM[\"Greenwich\",0],UNIT[\"degree\",0.0174532925199433]],PROJECTION[\"Sinusoidal\"],PARAMETER[\"longitude_of_center\",0],PARAMETER[\"false_easting\",0],PARAMETER[\"false_northing\",0],UNIT[\"metre\",1,AUTHORITY[\"EPSG\",\"9001\"]]]\n",
      " \n",
      "Reprojection command: gdalwarp -t_srs '+proj=aea +lat_1=29.5 +lat_2=45.5 +lat_0=37.5 +lon_0=-96 +x_0=0 +y_0=0 +ellps=GRS80 +datum=NAD83 +units=m +no_defs ' SampleHDFData/001.h/9001.h10_05.00.tif SampleHDFData/001.h/9001.h10_05.00_projected.tif\n",
      " \n",
      "New projection: PROJCS[\"unnamed\",GEOGCS[\"NAD83\",DATUM[\"North_American_Datum_1983\",SPHEROID[\"GRS 1980\",6378137,298.2572221010042,AUTHORITY[\"EPSG\",\"7019\"]],TOWGS84[0,0,0,0,0,0,0],AUTHORITY[\"EPSG\",\"6269\"]],PRIMEM[\"Greenwich\",0],UNIT[\"degree\",0.0174532925199433],AUTHORITY[\"EPSG\",\"4269\"]],PROJECTION[\"Albers_Conic_Equal_Area\"],PARAMETER[\"standard_parallel_1\",29.5],PARAMETER[\"standard_parallel_2\",45.5],PARAMETER[\"latitude_of_center\",37.5],PARAMETER[\"longitude_of_center\",-96],PARAMETER[\"false_easting\",0],PARAMETER[\"false_northing\",0],UNIT[\"metre\",1,AUTHORITY[\"EPSG\",\"9001\"]]]\n",
      " \n",
      "---------\n",
      "Processing file: MCD64A1.A2009060.h10v05.006.2017015044612.hdf\n",
      " \n",
      "HDF to GeoTIFF command: gdal_translate -of GTiff \"HDF4_EOS:EOS_GRID:SampleHDFData/MCD64A1.A2009060.h10v05.006.2017015044612.hdf:MOD_Grid_Monthly_500m_DB_BA:Burn Date\" SampleHDFData/060.h/9060.h10_05.00.tif\n",
      "Old projection: PROJCS[\"unnamed\",GEOGCS[\"Unknown datum based upon the custom spheroid\",DATUM[\"Not_specified_based_on_custom_spheroid\",SPHEROID[\"Custom spheroid\",6371007.181,0]],PRIMEM[\"Greenwich\",0],UNIT[\"degree\",0.0174532925199433]],PROJECTION[\"Sinusoidal\"],PARAMETER[\"longitude_of_center\",0],PARAMETER[\"false_easting\",0],PARAMETER[\"false_northing\",0],UNIT[\"metre\",1,AUTHORITY[\"EPSG\",\"9001\"]]]\n",
      " \n",
      "Reprojection command: gdalwarp -t_srs '+proj=aea +lat_1=29.5 +lat_2=45.5 +lat_0=37.5 +lon_0=-96 +x_0=0 +y_0=0 +ellps=GRS80 +datum=NAD83 +units=m +no_defs ' SampleHDFData/060.h/9060.h10_05.00.tif SampleHDFData/060.h/9060.h10_05.00_projected.tif\n",
      " \n",
      "New projection: PROJCS[\"unnamed\",GEOGCS[\"NAD83\",DATUM[\"North_American_Datum_1983\",SPHEROID[\"GRS 1980\",6378137,298.2572221010042,AUTHORITY[\"EPSG\",\"7019\"]],TOWGS84[0,0,0,0,0,0,0],AUTHORITY[\"EPSG\",\"6269\"]],PRIMEM[\"Greenwich\",0],UNIT[\"degree\",0.0174532925199433],AUTHORITY[\"EPSG\",\"4269\"]],PROJECTION[\"Albers_Conic_Equal_Area\"],PARAMETER[\"standard_parallel_1\",29.5],PARAMETER[\"standard_parallel_2\",45.5],PARAMETER[\"latitude_of_center\",37.5],PARAMETER[\"longitude_of_center\",-96],PARAMETER[\"false_easting\",0],PARAMETER[\"false_northing\",0],UNIT[\"metre\",1,AUTHORITY[\"EPSG\",\"9001\"]]]\n",
      " \n",
      "---------\n"
     ]
    }
   ],
   "source": [
    "# loop over files\n",
    "for i in files_names:\n",
    "    print(\"Processing file: \" + i)\n",
    "    print(\" \")\n",
    "    # create file path for the hdf file\n",
    "    name =  \"\\\"HDF4_EOS:EOS_GRID:\" + data_dir + \"/\" + i + \":MOD_Grid_Monthly_500m_DB_BA:Burn Date\\\"\"\n",
    "    \n",
    "    # extract a substring from the filename\n",
    "    b = name[45:53]+ \"_\"+ name[54:59]\n",
    "    \n",
    "    # get the time the image was taken\n",
    "    year = name[46:51]\n",
    "    \n",
    "    # create output directories for the rasters if necessary\n",
    "    if not os.path.exists(r_data_dir + \"/\" + year):\n",
    "        dir_to_make = r_data_dir + \"/\" + year\n",
    "        print(\"Making the following directory: \" + dir_to_make)\n",
    "        os.makedirs(dir_to_make)\n",
    "    \n",
    "    # convert the files to GeoTIFF format\n",
    "    dset = data_dir + \"/\" + year + \"/\" + b +\".tif\"\n",
    "    cmd = \"gdal_translate -of GTiff \" + name + \" \" + dset\n",
    "    print(\"HDF to GeoTIFF command: \" + cmd)\n",
    "    os.system(cmd)\n",
    "\n",
    "    r = gdal.Open(dset)\n",
    "    print(\"Old projection: \" + r.GetProjection())\n",
    "    print(\" \")\n",
    "    \n",
    "    # reproject the raster to a new projection, save as new file\n",
    "    new_file = data_dir + \"/\" + year + \"/\" + b +\"_projected.tif\"\n",
    "    reproj_cmd = \"gdalwarp -t_srs '+proj=aea +lat_1=29.5 +lat_2=45.5 +lat_0=37.5 +lon_0=-96 +x_0=0 +y_0=0 +ellps=GRS80 +datum=NAD83 +units=m +no_defs ' \" + dset + \" \" + new_file\n",
    "    print(\"Reprojection command: \" + reproj_cmd)\n",
    "    os.system(reproj_cmd)\n",
    "    \n",
    "    print(\" \")\n",
    "    \n",
    "    # load the raster \n",
    "    r = gdal.Open(new_file)\n",
    "    print(\"New projection: \" + r.GetProjection())\n",
    "    print(\" \")\n",
    "    \n",
    "    print(\"---------\")"
   ]
  },
  {
   "cell_type": "code",
   "execution_count": null,
   "metadata": {
    "collapsed": true
   },
   "outputs": [],
   "source": []
  }
 ],
 "metadata": {
  "anaconda-cloud": {},
  "kernelspec": {
   "display_name": "Python 3",
   "language": "python",
   "name": "python3"
  },
  "language_info": {
   "codemirror_mode": {
    "name": "ipython",
    "version": 3
   },
   "file_extension": ".py",
   "mimetype": "text/x-python",
   "name": "python",
   "nbconvert_exporter": "python",
   "pygments_lexer": "ipython3",
   "version": "3.6.1"
  }
 },
 "nbformat": 4,
 "nbformat_minor": 1
}
