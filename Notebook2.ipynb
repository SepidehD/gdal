{
 "cells": [
  {
   "cell_type": "code",
   "execution_count": 3,
   "metadata": {
    "collapsed": false
   },
   "outputs": [],
   "source": [
    "#import libraries\n",
    "from time import clock\n",
    "from osgeo import gdal\n",
    "import os , sys\n"
   ]
  },
  {
   "cell_type": "code",
   "execution_count": 5,
   "metadata": {
    "collapsed": false
   },
   "outputs": [
    {
     "name": "stdout",
     "output_type": "stream",
     "text": [
      "1.26 second\n"
     ]
    }
   ],
   "source": [
    "# hdf to tif, project=Albers\n",
    "start = clock()\n",
    "files_names = [f for f in os.listdir(r_data_dir) if f.endswith('.hdf')]\n",
    "for i in files_names:\n",
    "    name=  \"\\\"HDF4_EOS:EOS_GRID:\"+ data_dir + i+ \":MOD_Grid_Monthly_500m_DB_BA:Burn Date\\\"\"\n",
    "    #print name\n",
    "    #b=name[39:46]+ \"_\"+ name[47:53]\n",
    "    b=name[45:53]+ \"_\"+ name[54:60]\n",
    "    year= name[46:50]\n",
    "    #print b, year\n",
    "    if not os.path.exists(r_data_dir+\"/\"+year):\n",
    "      os.makedirs(r_data_dir+\"/\"+year)\n",
    "    dset = data_dir +year+\"/\"+b +\".tif\"\n",
    "    #print dset\n",
    "    #os.system(\"gdal_translate -of GTiff -a_srs \\\"+proj=aea +lat_1=29.5 +lat_2=45.5 +lat_0=23 +lon_0=-96 +x_0=0 +y_0=0 +ellps=GRS80 +datum=NAD83 +units=m +no_defs\\\" \" + name + \" \" + dset)\n",
    "    os.system(\"gdal_translate -of GTiff \" + name + \" \" + dset)\n",
    "    #outt=\"+proj=aea +lat_1=29.5 +lat_2=45.5 +lat_0=23 +lon_0=-96 +x_0=0 +y_0=0 +ellps=GRS80 +datum=NAD83 +units=m +no_defs\"\n",
    "    #os.system(\"gdalwarp -s_srs \\\" PROJCS['Unknown_datum_based_upon_the_custom_spheroid_Sinusoidal',GEOGCS['GCS_Unknown_datum_based_upon_the_custom_spheroid',DATUM['D_Not_specified_based_on_custom_spheroid',SPHEROID['Custom_spheroid',6371007.181,0.0]],PRIMEM['Greenwich',0.0],UNIT['Degree',0.0174532925199433]],PROJECTION['Sinusoidal'],PARAMETER['false_easting',0.0],PARAMETER['false_northing',0.0],PARAMETER['central_meridian',0.0],UNIT['Meter',1.0]]\")\n",
    "    #out_proj = 'PROJCS[\"USA_Contiguous_Albers_Equal_Area_Conic_USGS_version\",GEOGCS[\"GCS_North_American_1983\",DATUM[\"D_North_American_1983\",SPHEROID[\"GRS_1980\",6378137.0,298.257222101]],PRIMEM[\"Greenwich\",0.0],UNIT[\"Degree\",0.0174532925199433]],PROJECTION[\"Albers\"],PARAMETER[\"False_Easting\",0.0],PARAMETER[\"False_Northing\",0.0],PARAMETER[\"Central_Meridian\",-96.0],PARAMETER[\"Standard_Parallel_1\",29.5],PARAMETER[\"Standard_Parallel_2\",45.5],PARAMETER[\"Latitude_Of_Origin\",23.0],UNIT[\"Meter\",1.0],AUTHORITY[\"ESRI\",\"102039\"]]'\n",
    "    #input_proj=\"PROJCS['Unknown_datum_based_upon_the_custom_spheroid_Sinusoidal',GEOGCS['GCS_Unknown_datum_based_upon_the_custom_spheroid',DATUM['D_Not_specified_based_on_custom_spheroid',SPHEROID['Custom_spheroid',6371007.181,0.0]],PRIMEM['Greenwich',0.0],UNIT['Degree',0.0174532925199433]],PROJECTION['Sinusoidal'],PARAMETER['false_easting',0.0],PARAMETER['false_northing',0.0],PARAMETER['central_meridian',0.0],UNIT['Meter',1.0]]\"\n",
    "    #os.system(\"gdalwarp -of GTiff -s_srs \\\" PROJCS['Unknown_datum_based_upon_the_custom_spheroid_Sinusoidal',GEOGCS['GCS_Unknown_datum_based_upon_the_custom_spheroid',DATUM['D_Not_specified_based_on_custom_spheroid',SPHEROID['Custom_spheroid',6371007.181,0.0]],PRIMEM['Greenwich',0.0],UNIT['Degree',0.0174532925199433]],PROJECTION['Sinusoidal'],PARAMETER['false_easting',0.0],PARAMETER['false_northing',0.0],PARAMETER['central_meridian',0.0],UNIT['Meter',1.0]]\\\"  -t_srs\"  + out_proj +\" \"+ name + \" \" + dset)\n",
    "    #os.system(\"gdal_translate -of GTiff -a_srs \" + out_proj +\" \"+ name + \" \" + dset)\n",
    "    #os.system(\"gdalwarp -of GTiff  -s_srs \\\" PROJCS['Unknown_datum_based_upon_the_custom_spheroid_Sinusoidal',GEOGCS['GCS_Unknown_datum_based_upon_the_custom_spheroid',DATUM['D_Not_specified_based_on_custom_spheroid',SPHEROID['Custom_spheroid',6371007.181,0.0]],PRIMEM['Greenwich',0.0],UNIT['Degree',0.0174532925199433]],PROJECTION['Sinusoidal'],PARAMETER['false_easting',0.0],PARAMETER['false_northing',0.0],PARAMETER['central_meridian',0.0],UNIT['Meter',1.0]]\"\\ -a_srs \" + out_proj +\" \"+ name + \" \" + dset)\n",
    "    #os.system(\"gdal_translate -of GTiff -a_srs \\\"PROJCS['USA_Contiguous_Albers_Equal_Area_Conic_USGS_version',GEOGCS['GCS_North_American_1983',DATUM['D_North_American_1983',SPHEROID['GRS_1980',6378137.0,298.257222101]],PRIMEM['Greenwich',0.0],UNIT['Degree',0.0174532925199433]],PROJECTION['Albers'],PARAMETER['False_Easting',0.0],PARAMETER['False_Northing',0.0],PARAMETER['Central_Meridian',-96.0],PARAMETER['Standard_Parallel_1',29.5],PARAMETER['Standard_Parallel_2',45.5],PARAMETER['Latitude_Of_Origin',23.0],UNIT['Meter',1.0]]\", resampling_type=\"NEAREST\\\" \" + name + \" \" + dset)\n",
    "    #os.system(\"gdal_translate -of GTiff -a_srs \\\"+proj=aea +lat_1=29.5 +lat_2=45.5 +lat_0=23 +lon_0=-96 +x_0=0 +y_0=0 +ellps=GRS80 +datum=NAD83 +units=m +no_defs\\\" \" + name + \" \" + dset)\n",
    "# Replace a layer/table view name with a path to a dataset (which can be a layer file) or create the layer/table view within the script\n",
    "# The following inputs are layers or table views: \"A2010.tif\"\n",
    "#arcpy.ProjectRaster_management(in_raster=\"A2010.tif\", out_raster=\"C:/Users/sepid/Documents/ArcGIS/Default1.gdb/A2010_ProjectRaster\", out_coor_system=\"PROJCS['USA_Contiguous_Albers_Equal_Area_Conic_USGS_version',GEOGCS['GCS_North_American_1983',DATUM['D_North_American_1983',SPHEROID['GRS_1980',6378137.0,298.257222101]],PRIMEM['Greenwich',0.0],UNIT['Degree',0.0174532925199433]],PROJECTION['Albers'],PARAMETER['False_Easting',0.0],PARAMETER['False_Northing',0.0],PARAMETER['Central_Meridian',-96.0],PARAMETER['Standard_Parallel_1',29.5],PARAMETER['Standard_Parallel_2',45.5],PARAMETER['Latitude_Of_Origin',23.0],UNIT['Meter',1.0]]\", resampling_type=\"NEAREST\", cell_size=\"463.312716527917 463.312716527917\", geographic_transform=\"\", Registration_Point=\"\", in_coor_system=\"PROJCS['Unknown_datum_based_upon_the_custom_spheroid_Sinusoidal',GEOGCS['GCS_Unknown_datum_based_upon_the_custom_spheroid',DATUM['D_Not_specified_based_on_custom_spheroid',SPHEROID['Custom_spheroid',6371007.181,0.0]],PRIMEM['Greenwich',0.0],UNIT['Degree',0.0174532925199433]],PROJECTION['Sinusoidal'],PARAMETER['false_easting',0.0],PARAMETER['false_northing',0.0],PARAMETER['central_meridian',0.0],UNIT['Meter',1.0]]\")\n",
    "print round (time.clock()-start,2),'second' "
   ]
  },
  {
   "cell_type": "code",
   "execution_count": 11,
   "metadata": {
    "collapsed": false
   },
   "outputs": [],
   "source": [
    "out_proj = str('PROJCS[\"USA_Contiguous_Albers_Equal_Area_Conic_USGS_version\",GEOGCS[\"GCS_North_American_1983\",DATUM[\"D_North_American_1983\",SPHEROID[\"GRS_1980\",6378137.0,298.257222101]],PRIMEM[\"Greenwich\",0.0],UNIT[\"Degree\",0.0174532925199433]],PROJECTION[\"Albers\"],PARAMETER[\"False_Easting\",0.0],PARAMETER[\"False_Northing\",0.0],PARAMETER[\"Central_Meridian\",-96.0],PARAMETER[\"Standard_Parallel_1\",29.5],PARAMETER[\"Standard_Parallel_2\",45.5],PARAMETER[\"Latitude_Of_Origin\",23.0],UNIT[\"Meter\",1.0],AUTHORITY[\"ESRI\",\"102039\"]]')\n"
   ]
  },
  {
   "cell_type": "code",
   "execution_count": 12,
   "metadata": {
    "collapsed": false
   },
   "outputs": [],
   "source": [
    "in_proj= str(\"PROJCS['Unknown_datum_based_upon_the_custom_spheroid_Sinusoidal',GEOGCS['GCS_Unknown_datum_based_upon_the_custom_spheroid',DATUM['D_Not_specified_based_on_custom_spheroid',SPHEROID['Custom_spheroid',6371007.181,0.0]],PRIMEM['Greenwich',0.0],UNIT['Degree',0.0174532925199433]],PROJECTION['Sinusoidal'],PARAMETER['false_easting',0.0],PARAMETER['false_northing',0.0],PARAMETER['central_meridian',0.0],UNIT['Meter',1.0]]\")\n"
   ]
  },
  {
   "cell_type": "code",
   "execution_count": 36,
   "metadata": {
    "collapsed": false
   },
   "outputs": [
    {
     "name": "stdout",
     "output_type": "stream",
     "text": [
      "A2016122_h08v05.tif\n"
     ]
    }
   ],
   "source": [
    "\n",
    "# trying Gdal_warp\n",
    "\n",
    "\n",
    "start = clock()\n",
    "data_dir = \"test/2009\"\n",
    "r_data_dir = \"./\" + data_dir\n",
    "files_names = [f for f in os.listdir(data_dir) if f.endswith('.tif')]\n",
    "for i in files_names:\n",
    "    print i\n",
    "    #os.system(\"gdalwarp %s %s -of GTiff -t_srs %s %s -overwrite  \" %(i,i,outt,dstfile))\n",
    "    #os.system(\"gdalwarp -overwrite %s %s -of GTiff -s_srs %s -t_srs %s   \" %(i,i+\"new\",input_proj,outt))\n",
    "    #os.system(\"gdaltransform -s_srs %s -t_srs %s \" %(input_proj,outt))\n",
    "    #os.system(\"gdaltransform -s_srs %s -t_srs %s %s\" %(input_proj,outt,dstfile2 ))\n",
    "    #os.system(\"gdalwarp  -t_srs \\\"+proj=aea +lat_1=29.5 +lat_2=45.5 +lat_0=23 +lon_0=-96 +x_0=0 +y_0=0 +ellps=GRS80 +datum=NAD83 +units=m +no_defs\\\"  -s_srs \\\" PROJCS['Unknown_datum_based_upon_the_custom_spheroid_Sinusoidal',GEOGCS['GCS_Unknown_datum_based_upon_the_custom_spheroid',DATUM['D_Not_specified_based_on_custom_spheroid',SPHEROID['Custom_spheroid',6371007.181,0.0]],PRIMEM['Greenwich',0.0],UNIT['Degree',0.0174532925199433]],PROJECTION['Sinusoidal'],PARAMETER['false_easting',0.0],PARAMETER['false_northing',0.0],PARAMETER['central_meridian',0.0],UNIT['Meter',1.0]]\\\"\" )               "
   ]
  },
  {
   "cell_type": "code",
   "execution_count": 42,
   "metadata": {
    "collapsed": false
   },
   "outputs": [
    {
     "data": {
      "text/plain": [
       "1"
      ]
     },
     "execution_count": 42,
     "metadata": {},
     "output_type": "execute_result"
    }
   ],
   "source": [
    "#from osgeo import gdal\n",
    "\n",
    "'''filename = r\"C:\\Users\\sepid\\Documents\\fire_event_py\\test\\A2016122_h08v05.tif\"\n",
    "input_raster = gdal.Open(filename)\n",
    "output_raster = r\"C:\\Users\\sepid\\Documents\\fire_event_py\\test\\test2\\A2016122_h08v05.tif\"\n",
    "os.system( \"gdalwarp(output_raster,input_raster,dstSRS='+proj=aea +lat_1=29.5 +lat_2=45.5 +lat_0=23 +lon_0=-96 +x_0=0 +y_0=0 +ellps=GRS80 +datum=NAD83 +units=m +no_defs'\")\n",
    "'''"
   ]
  },
  {
   "cell_type": "code",
   "execution_count": 41,
   "metadata": {
    "collapsed": false
   },
   "outputs": [
    {
     "data": {
      "text/plain": [
       "1"
      ]
     },
     "execution_count": 41,
     "metadata": {},
     "output_type": "execute_result"
    }
   ],
   "source": [
    "'''\n",
    "os.system(\"gdalbuildvrt -of GTiff -srcnodata -1 2010001_h08v05.tif myVrt.vrt\")\n",
    "os.system(\"gdal_translate -of GTiff -scale -a_nodata -1 myVrt.vrt /tifs/test3/2010/output.tif\")\n",
    "'''"
   ]
  },
  {
   "cell_type": "code",
   "execution_count": 29,
   "metadata": {
    "collapsed": false
   },
   "outputs": [
    {
     "data": {
      "text/plain": [
       "1"
      ]
     },
     "execution_count": 29,
     "metadata": {},
     "output_type": "execute_result"
    }
   ],
   "source": [
    "'''\n",
    "\n",
    "import os\n",
    "data_dir = \"./tifs/test1/2009/\"\n",
    "# Define input and output files\n",
    "inputfiles =  \"2009305_h08v05.tif 2009335_h08v05.tif\"\n",
    "outputfile =  \"./tifs/test1/2009/mergedfile.tif\"\n",
    "\n",
    "# Generate the command\n",
    "command = \"gdal_merge.py %s -o %s\" % (inputfiles, outputfile)\n",
    "os.system(command)\n",
    "'''"
   ]
  }
 ],
 "metadata": {
  "anaconda-cloud": {},
  "kernelspec": {
   "display_name": "Python [conda root]",
   "language": "python",
   "name": "conda-root-py"
  },
  "language_info": {
   "codemirror_mode": {
    "name": "ipython",
    "version": 2
   },
   "file_extension": ".py",
   "mimetype": "text/x-python",
   "name": "python",
   "nbconvert_exporter": "python",
   "pygments_lexer": "ipython2",
   "version": "2.7.12"
  }
 },
 "nbformat": 4,
 "nbformat_minor": 1
}
